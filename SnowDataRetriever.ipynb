{
 "cells": [
  {
   "cell_type": "code",
   "execution_count": 42,
   "metadata": {},
   "outputs": [
    {
     "name": "stdout",
     "output_type": "stream",
     "text": [
      "https://www.nohrsc.noaa.gov/\n"
     ]
    }
   ],
   "source": [
    "import pandas as pd\n",
    "import base64\n",
    "from IPython.display import HTML\n",
    "\n",
    "# The NOAA site:\n",
    "print(\"https://www.nohrsc.noaa.gov/\")\n",
    "# includes a utility to request data files for specific regions and times. Here is an example url:\n",
    "# \"https://www.nohrsc.noaa.gov/nsa/reports.html?region=Northeast&var=swe&sort=id&units=e&dy=2019&dm=1&dd=10&dh=6\"\n",
    "\n",
    "# Using this syntax, collect data over a specified time period and returned as a CSV of the dataframe\n",
    "\n",
    "url = \"https://www.nohrsc.noaa.gov/nsa/discussions_text/Northeast/{}/{}{:02d}/{}_{}{:02d}{:02d}06_e.txt\"    \n",
    "DataItems = ['swe','snowdepth','snowdensity','snowfall']\n",
    "\n",
    "years = [2019]       #years = range(2000,2020)\n",
    "months = [1]         #months = range(1,13)\n",
    "days =  range(1,32)         "
   ]
  },
  {
   "cell_type": "code",
   "execution_count": null,
   "metadata": {},
   "outputs": [
    {
     "name": "stdout",
     "output_type": "stream",
     "text": [
      "1 / 1 / 2019\n",
      "1 / 2 / 2019\n",
      "1 / 3 / 2019\n",
      "1 / 4 / 2019\n",
      "1 / 5 / 2019\n",
      "1 / 6 / 2019\n",
      "1 / 7 / 2019\n",
      "1 / 8 / 2019\n"
     ]
    }
   ],
   "source": [
    "Data = pd.DataFrame()\n",
    "\n",
    "#loop through each year\n",
    "for yr in years:\n",
    "    #loop through each month\n",
    "    for mo in months:   \n",
    "        #loop through each day\n",
    "        for day in days:\n",
    "            print(mo,\"/\",day,\"/\",yr)\n",
    "            \n",
    "            #loop through each data item\n",
    "            for item in DataItems:\n",
    "                #make the url\n",
    "                thisurl = url.format(item,yr,mo,item,yr,mo,day)\n",
    "                #print(thisurl)\n",
    "                try:\n",
    "                    #collect the data\n",
    "                    #some days may not exist, so this is in a try/except block\n",
    "                    ThisDay = pd.read_csv(thisurl,sep='|',header=1)\n",
    "                except:\n",
    "                    ThisDay = pd.DataFrame()\n",
    "                #add the data to the dataframe\n",
    "                Data=Data.append(ThisDay,ignore_index = True,sort=False)\n"
   ]
  },
  {
   "cell_type": "code",
   "execution_count": null,
   "metadata": {},
   "outputs": [],
   "source": [
    "Data"
   ]
  },
  {
   "cell_type": "code",
   "execution_count": null,
   "metadata": {},
   "outputs": [],
   "source": [
    "# create an HTML link to download your generated geometries\n",
    "def create_download_link(dataframe ,filename = \"data.csv\"):  \n",
    "    csv = dataframe.to_csv()\n",
    "    b64 = base64.b64encode(csv.encode())\n",
    "    payload = b64.decode()\n",
    "    #print(str(payload))\n",
    "    html = '<a download=\\\"{filename}\\\" href=\\\"data:text/csv;base64,{payload}\\\" target=\\\"_blank\\\">{title}</a>'\n",
    "    html = html.format(payload=payload,title=filename,filename=filename)\n",
    "    return HTML(html)"
   ]
  },
  {
   "cell_type": "code",
   "execution_count": null,
   "metadata": {},
   "outputs": [],
   "source": [
    "create_download_link(Data,'Data.csv')"
   ]
  }
 ],
 "metadata": {
  "kernelspec": {
   "display_name": "Python 3",
   "language": "python",
   "name": "python3"
  },
  "language_info": {
   "codemirror_mode": {
    "name": "ipython",
    "version": 3
   },
   "file_extension": ".py",
   "mimetype": "text/x-python",
   "name": "python",
   "nbconvert_exporter": "python",
   "pygments_lexer": "ipython3",
   "version": "3.7.3"
  },
  "toc": {
   "base_numbering": 1,
   "nav_menu": {},
   "number_sections": true,
   "sideBar": true,
   "skip_h1_title": false,
   "title_cell": "Table of Contents",
   "title_sidebar": "Contents",
   "toc_cell": false,
   "toc_position": {},
   "toc_section_display": true,
   "toc_window_display": false
  }
 },
 "nbformat": 4,
 "nbformat_minor": 2
}
